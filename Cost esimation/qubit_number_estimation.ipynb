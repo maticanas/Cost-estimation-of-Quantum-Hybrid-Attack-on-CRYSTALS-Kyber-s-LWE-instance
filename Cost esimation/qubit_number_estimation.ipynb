{
 "cells": [
  {
   "cell_type": "code",
   "execution_count": 2,
   "metadata": {},
   "outputs": [
    {
     "name": "stdout",
     "output_type": "stream",
     "text": [
      "Max Qubit Number for n=512 : 203799(log2 cale : 17.636787446948485) at r = 64\n",
      "Max Qubit Number for n=768 : 316761(log2 cale : 18.273035194418203) at r = 64\n",
      "Max Qubit Number for n=1024 : 426841(log2 cale : 18.70333923460981) at r = 64\n"
     ]
    }
   ],
   "source": [
    "import math\n",
    "\n",
    "def total_qubit_number(n, r, case):\n",
    "    \"\"\"\n",
    "    case = 1 for log2(L) = 1.302r\n",
    "    case = 2 for log2(L) = 1.108r\n",
    "    \"\"\"\n",
    "    \n",
    "    # log2(L)\n",
    "    if case == 1:\n",
    "        f = 1.302\n",
    "    elif case == 2:\n",
    "        f = 1.108\n",
    "    else:\n",
    "        raise ValueError(\"Invalid case. Use 1 or 2.\")\n",
    "    \n",
    "    k = 2 * n - r\n",
    "    l_r = math.ceil(math.log2(r + 1))\n",
    "    l_k = math.ceil(math.log2(k))\n",
    "    rounding_error_term = math.ceil(\n",
    "        math.log2(1 - 2 ** (-1 / (k * f * r)))\n",
    "    )\n",
    "    \n",
    "    term_n = (12 * l_r + 4 * l_k - 2 * rounding_error_term + 268) * n\n",
    "    term_r = -(6 * l_r + 2 * l_k - rounding_error_term + 131) * r\n",
    "    constant = 53 + 2 * l_r + 2 * l_k\n",
    "    \n",
    "    total = term_n + term_r + constant\n",
    "\n",
    "    return total\n",
    "\n",
    "def find_max_qn(n, case):\n",
    "    \"\"\"\n",
    "    case = 1 for log2(L) = 1.302r\n",
    "    case = 2 for log2(L) = 1.108r\n",
    "    \"\"\"\n",
    "    max_qn = float('-inf')\n",
    "    max_r = None\n",
    "\n",
    "    for r in range(1, n):\n",
    "        qn = total_qubit_number(n, r, case)\n",
    "        if qn > max_qn:\n",
    "            max_qn = qn\n",
    "            max_r = r\n",
    "\n",
    "    return max_qn, max_r\n",
    "\n",
    "def compute_max_qn(n):\n",
    "\n",
    "    if n == 512:\n",
    "        case=1\n",
    "    else:\n",
    "        case=2\n",
    "\n",
    "    max_qn, max_r = find_max_qn(n, case)\n",
    "    print(f\"Max Qubit Number for n={n} : {max_qn}(log2 cale : {math.log2(max_qn)}) at r = {max_r}\")\n",
    "    \n",
    "# Example usage\n",
    "if __name__ == \"__main__\":\n",
    "    compute_max_qn(512)\n",
    "    compute_max_qn(768)\n",
    "    compute_max_qn(1024)\n"
   ]
  }
 ],
 "metadata": {
  "kernelspec": {
   "display_name": "qiskit12",
   "language": "python",
   "name": "python3"
  },
  "language_info": {
   "codemirror_mode": {
    "name": "ipython",
    "version": 3
   },
   "file_extension": ".py",
   "mimetype": "text/x-python",
   "name": "python",
   "nbconvert_exporter": "python",
   "pygments_lexer": "ipython3",
   "version": "3.11.9"
  }
 },
 "nbformat": 4,
 "nbformat_minor": 2
}
