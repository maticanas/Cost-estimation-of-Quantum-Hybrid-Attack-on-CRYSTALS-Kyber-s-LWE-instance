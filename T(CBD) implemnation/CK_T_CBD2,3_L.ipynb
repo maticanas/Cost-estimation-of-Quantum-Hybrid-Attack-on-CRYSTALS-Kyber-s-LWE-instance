{
 "cells": [
  {
   "cell_type": "markdown",
   "metadata": {},
   "source": [
    "![prob_dist](./img/TCBD2.png)"
   ]
  },
  {
   "cell_type": "code",
   "execution_count": 7,
   "metadata": {},
   "outputs": [],
   "source": [
    "from qiskit import *\n",
    "import qiskit.quantum_info as qi\n",
    "from qiskit.visualization import plot_histogram\n",
    "import numpy as np\n",
    "from time import time\n",
    "from math import pi\n",
    "from qiskit.quantum_info import Operator\n",
    "from qiskit.visualization import plot_distribution\n",
    "from qiskit.circuit.library import CDKMRippleCarryAdder\n",
    "from qiskit_aer import AerSimulator\n",
    "import numpy as np\n",
    "from math import sqrt\n",
    "from math import log2"
   ]
  },
  {
   "cell_type": "code",
   "execution_count": 8,
   "metadata": {},
   "outputs": [
    {
     "name": "stdout",
     "output_type": "stream",
     "text": [
      "P(d_-2) = 0.0967\n",
      "P(d_-1) = 0.2437\n",
      "P(d_0) = 0.3193\n",
      "P(d_1) = 0.2437\n",
      "P(d_2) = 0.0967\n",
      "The sum of d_x^(2/3) for \\eta_1 is: 2.155628\n",
      "Log of L_2: 1.108108\n"
     ]
    }
   ],
   "source": [
    "\n",
    "# Value for \\eta_1=2\n",
    "\n",
    "# Given distribution values\n",
    "values = [1, np.cbrt(4) ** 2, np.cbrt(6) ** 2, np.cbrt(4) ** 2, 1]\n",
    "\n",
    "# Calculate normalization constant T (sum of values)\n",
    "T = sum(values)\n",
    "\n",
    "# Normalize the values to get the probability distribution\n",
    "prob_distribution = [x / T for x in values]\n",
    "\n",
    "# Output the probability distribution\n",
    "for i, prob in enumerate(prob_distribution, start=-2):\n",
    "    print(f\"P(d_{i}) = {prob:.4f}\")\n",
    "\n",
    "L2 = sum([x**(2/3) for x in prob_distribution])\n",
    "L2 = L2 **(3/2)\n",
    "\n",
    "# Output the result\n",
    "print(f\"The sum of d_x^(2/3) for \\eta_1 is: {L2:.6f}\")\n",
    "print(f\"Log of L_2: {log2(L2):.6f}\")"
   ]
  },
  {
   "cell_type": "code",
   "execution_count": 9,
   "metadata": {},
   "outputs": [
    {
     "name": "stdout",
     "output_type": "stream",
     "text": [
      "P(d_-3) = 0.0355\n",
      "P(d_-2) = 0.1174\n",
      "P(d_-1) = 0.2162\n",
      "P(d_0) = 0.2619\n",
      "P(d_1) = 0.2162\n",
      "P(d_2) = 0.1174\n",
      "P(d_3) = 0.0355\n",
      "The sum of d_x^(2/3) for \\eta_1 is: 2.466021\n",
      "Log of L_2: 1.302185\n"
     ]
    }
   ],
   "source": [
    "# for \\eta_1 = 3\n",
    "\n",
    "# Given distribution values\n",
    "values = [1, np.cbrt(6) ** 2, np.cbrt(15) ** 2, np.cbrt(20) ** 2, np.cbrt(15) ** 2, np.cbrt(6) ** 2, 1]\n",
    "\n",
    "# Calculate normalization constant T (sum of values)\n",
    "T = sum(values)\n",
    "\n",
    "# Normalize the values to get the probability distribution\n",
    "prob_distribution = [x / T for x in values]\n",
    "\n",
    "# Output the probability distribution\n",
    "for i, prob in enumerate(prob_distribution, start=-3):\n",
    "    print(f\"P(d_{i}) = {prob:.4f}\")\n",
    "\n",
    "L3 = sum([x**(2/3) for x in prob_distribution])\n",
    "L3 = L3 **(3/2)\n",
    "\n",
    "# Output the result\n",
    "print(f\"The sum of d_x^(2/3) for \\eta_1 is: {L3:.6f}\")\n",
    "print(f\"Log of L_2: {log2(L3):.6f}\")"
   ]
  }
 ],
 "metadata": {
  "kernelspec": {
   "display_name": "qiskit12",
   "language": "python",
   "name": "python3"
  },
  "language_info": {
   "codemirror_mode": {
    "name": "ipython",
    "version": 3
   },
   "file_extension": ".py",
   "mimetype": "text/x-python",
   "name": "python",
   "nbconvert_exporter": "python",
   "pygments_lexer": "ipython3",
   "version": "3.11.9"
  }
 },
 "nbformat": 4,
 "nbformat_minor": 2
}
