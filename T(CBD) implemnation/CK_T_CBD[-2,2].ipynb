{
 "cells": [
  {
   "cell_type": "code",
   "execution_count": 1,
   "metadata": {},
   "outputs": [],
   "source": [
    "from qiskit import *\n",
    "import qiskit.quantum_info as qi\n",
    "from qiskit.visualization import plot_histogram\n",
    "import numpy as np\n",
    "from time import time\n",
    "from math import pi\n",
    "from qiskit.quantum_info import Operator\n",
    "from qiskit.visualization import plot_distribution\n",
    "from qiskit.circuit.library import CDKMRippleCarryAdder\n",
    "from qiskit_aer import AerSimulator"
   ]
  },
  {
   "cell_type": "code",
   "execution_count": 2,
   "metadata": {},
   "outputs": [
    {
     "name": "stdout",
     "output_type": "stream",
     "text": [
      "P(d_-2) = 0.0967\n",
      "P(d_-1) = 0.2437\n",
      "P(d_0) = 0.3193\n",
      "P(d_1) = 0.2437\n",
      "P(d_2) = 0.0967\n"
     ]
    }
   ],
   "source": [
    "import numpy as np\n",
    "from math import sqrt\n",
    "\n",
    "# Given distribution values\n",
    "values = [1, np.cbrt(4) ** 2, np.cbrt(6) ** 2, np.cbrt(4) ** 2, np.cbrt(1) ** 2]\n",
    "\n",
    "# Calculate normalization constant T (sum of values)\n",
    "T = sum(values)\n",
    "\n",
    "# Normalize the values to get the probability distribution\n",
    "prob_distribution = [x / T for x in values]\n",
    "\n",
    "# Output the probability distribution\n",
    "for i, prob in enumerate(prob_distribution, start=-2):\n",
    "    print(f\"P(d_{i}) = {prob:.4f}\")"
   ]
  },
  {
   "cell_type": "code",
   "execution_count": 3,
   "metadata": {},
   "outputs": [],
   "source": [
    "# Function to generate binary code for a number\n",
    "def bin_code(m, n):\n",
    "    return [int(b) for b in bin(m)[2:].zfill(n)]  # convert to binary list of length n\n",
    "\n",
    "# Function to generate Gray code for a number\n",
    "def gray_code(m, n):\n",
    "    gray_value = m ^ (m >> 1)\n",
    "    mid = [int(b) for b in bin(gray_value)[2:].zfill(n)]  # convert to Gray code list of length n\n",
    "    mid.reverse()\n",
    "    return mid\n",
    "\n",
    "def inner_product(list1, list2):\n",
    "    return sum(x * y for x, y in zip(list1, list2))\n",
    "\n",
    "# print(gray_code(4,5))"
   ]
  },
  {
   "cell_type": "code",
   "execution_count": 4,
   "metadata": {},
   "outputs": [
    {
     "name": "stdout",
     "output_type": "stream",
     "text": [
      "sum of prob : 0.9999999999999998\n",
      "sum of prob : 0.9999999999999999\n",
      "0.5650535943375512\n",
      "0.4936197815423142\n",
      "0.3109609767048352\n",
      "0.0\n",
      "0.0\n",
      "0.0\n",
      "0.3109609767048352\n",
      "0.4936197815423142\n",
      "-----------------\n",
      "0.31928556447378587\n",
      "0.24366048872988197\n",
      "0.09669672903322506\n",
      "0.0\n",
      "0.0\n",
      "0.0\n",
      "0.09669672903322506\n",
      "0.24366048872988197\n"
     ]
    }
   ],
   "source": [
    "#prob_distribution : [-3, -2, -1, 0, 1, 2, 3]\n",
    "# -> [0,1,2,4,-3,-2,-1]\n",
    "\n",
    "prob = [0 for i in range(8)]\n",
    "prob[0] = prob_distribution[2] # 000 = 0\n",
    "prob[1] = prob_distribution[3] # 001 = 1\n",
    "prob[2] = prob_distribution[4] # 010 = 2\n",
    "prob[3] = 0 # 011 = 3\n",
    "prob[4] = 0 # 100 = 4\n",
    "prob[5] = 0 # 101 = -3\n",
    "prob[6] = prob_distribution[0] # 110 = -2\n",
    "prob[7] = prob_distribution[1] # 111 = -1\n",
    "\n",
    "\n",
    "\n",
    "a = sum([prob[i] for i in range(8)])\n",
    "print(f'sum of prob : {a}')\n",
    "\n",
    "for i in range(8):\n",
    "    prob[i] = sqrt(prob[i])\n",
    "\n",
    "b = sum([prob[i]**2 for i in range(8)])\n",
    "print(f'sum of prob : {b}')\n",
    "\n",
    "\n",
    "for i in range(8):\n",
    "    print(prob[i])\n",
    "\n",
    "print('-----------------')\n",
    "\n",
    "for i in range(8):\n",
    "    print(prob[i]**2)   "
   ]
  },
  {
   "cell_type": "code",
   "execution_count": 5,
   "metadata": {},
   "outputs": [],
   "source": [
    "d1 = sqrt(prob[0]**2 + prob[1]**2)\n",
    "if d1 == 0:\n",
    "    ay1 = 0\n",
    "else:\n",
    "    ay1 = prob[1] / d1\n",
    "    ay1 = 2 * np.arcsin(ay1)\n",
    "\n",
    "d2 = sqrt(prob[2]**2 + prob[3]**2)\n",
    "if d2 == 0:\n",
    "    ay2 = 0\n",
    "else:\n",
    "    ay2 = prob[3] / d2\n",
    "    ay2 = 2 * np.arcsin(ay2)\n",
    "\n",
    "d3 = sqrt(prob[4]**2 + prob[5]**2)\n",
    "if d3 == 0:\n",
    "    ay3 = 0\n",
    "else:\n",
    "    ay3 = prob[5] / d3\n",
    "    ay3 = 2 * np.arcsin(ay3)\n",
    "\n",
    "d4 = sqrt(prob[6]**2 + prob[7]**2)\n",
    "if d4 == 0:\n",
    "    ay4 = 0\n",
    "else:\n",
    "    ay4 = prob[7] / d4\n",
    "    ay4 = 2 * np.arcsin(ay4)"
   ]
  },
  {
   "cell_type": "code",
   "execution_count": 6,
   "metadata": {},
   "outputs": [],
   "source": [
    "# Define a 4x4 matrix\n",
    "N = 2\n",
    "n = 2 ** N \n",
    "Minv = np.zeros((n, n))  \n",
    "for i in range(n):\n",
    "    for j in range(n):\n",
    "        b = bin_code(j, N)\n",
    "        g = gray_code(i, N)\n",
    "        exp = inner_product(b,g)\n",
    "        Minv[i][j] = ((-1)**exp)/(n)\n",
    "\n",
    "\n",
    "# Define a 4x4 matrix\n",
    "N = 2\n",
    "n = 2 ** N \n",
    "M = np.zeros((n, n))  \n",
    "for i in range(n):\n",
    "    for j in range(n):\n",
    "        b = bin_code(i, N)\n",
    "        g = gray_code(j, N)\n",
    "        exp = inner_product(b,g)\n",
    "        M[i][j] = ((-1)**exp)\n",
    "\n",
    "# # Multiply the matrix by the vector\n",
    "# print(M)\n",
    "# print(Minv)\n",
    "\n",
    "# print(np.matmul(M, Minv))"
   ]
  },
  {
   "cell_type": "code",
   "execution_count": 7,
   "metadata": {},
   "outputs": [],
   "source": [
    "def get_Minv(N):\n",
    "    n = 2 ** N \n",
    "    Minv = np.zeros((n, n))  \n",
    "    for i in range(n):\n",
    "        for j in range(n):\n",
    "            b = bin_code(j, N)\n",
    "            g = gray_code(i, N)\n",
    "            exp = inner_product(b,g)\n",
    "            Minv[i][j] = ((-1)**exp)/(n)\n",
    "    return Minv"
   ]
  },
  {
   "cell_type": "code",
   "execution_count": 8,
   "metadata": {},
   "outputs": [
    {
     "name": "stdout",
     "output_type": "stream",
     "text": [
      "[1.4360509  0.         0.         2.01727568]\n",
      "[ 0.86333165 -0.1453062   0.86333165 -0.1453062 ]\n"
     ]
    }
   ],
   "source": [
    "# Define a length-4 vector\n",
    "vector_alpha_1 = np.array([ay1, ay2, ay3, ay4])\n",
    "print(vector_alpha_1)\n",
    "\n",
    "vector_theta_1 = np.matmul(Minv, vector_alpha_1)\n",
    "\n",
    "print(vector_theta_1)"
   ]
  },
  {
   "cell_type": "code",
   "execution_count": 9,
   "metadata": {},
   "outputs": [],
   "source": [
    "prob2 = [0 for i in range(4)]\n",
    "prob2[0] = sqrt(prob[0]**2 + prob[1]**2)\n",
    "prob2[1] = sqrt(prob[2]**2 + prob[3]**2)\n",
    "prob2[2] = sqrt(prob[4]**2 + prob[5]**2)\n",
    "prob2[3] = sqrt(prob[6]**2 + prob[7]**2)"
   ]
  },
  {
   "cell_type": "code",
   "execution_count": 10,
   "metadata": {},
   "outputs": [],
   "source": [
    "d1 = sqrt(prob2[0]**2 + prob2[1]**2)\n",
    "if d1 == 0:\n",
    "    ay1 = 0\n",
    "else:\n",
    "    ay1 = prob2[1] / d1\n",
    "    ay1 = 2 * np.arcsin(ay1)\n",
    "\n",
    "d2 = sqrt(prob2[2]**2 + prob2[3]**2)\n",
    "if d2 == 0:\n",
    "    ay2 = 0\n",
    "else:\n",
    "    ay2 = prob2[3] / d2\n",
    "    ay2 = 2 * np.arcsin(ay2)"
   ]
  },
  {
   "cell_type": "code",
   "execution_count": 11,
   "metadata": {},
   "outputs": [],
   "source": [
    "vector_alpha_2 = np.array([ay1, ay2])\n",
    "# print(vector_alpha_2)\n",
    "\n",
    "Minv2 = get_Minv(1)\n",
    "\n",
    "# print(Minv2)\n",
    "\n",
    "vector_theta_2 = np.matmul(Minv2, vector_alpha_2)\n",
    "\n",
    "# print(vector_theta_2)"
   ]
  },
  {
   "cell_type": "code",
   "execution_count": 12,
   "metadata": {},
   "outputs": [],
   "source": [
    "prob3 = [0 for i in range(2)]\n",
    "prob3[0] = sqrt(prob2[0]**2 + prob2[1]**2)\n",
    "prob3[1] = sqrt(prob2[2]**2 + prob2[3]**2)"
   ]
  },
  {
   "cell_type": "code",
   "execution_count": 13,
   "metadata": {},
   "outputs": [],
   "source": [
    "d1 = sqrt(prob3[0]**2 + prob3[1]**2)\n",
    "if d1 == 0:\n",
    "    ay1 = 0\n",
    "else:\n",
    "    ay1 = prob3[1] / d1\n",
    "    ay1 = 2 * np.arcsin(ay1)\n",
    "\n",
    "vector_theta3 = [ay1]"
   ]
  },
  {
   "cell_type": "code",
   "execution_count": 14,
   "metadata": {},
   "outputs": [
    {
     "data": {
      "text/plain": [
       "<qiskit.circuit.instructionset.InstructionSet at 0x12663c4a5f0>"
      ]
     },
     "execution_count": 14,
     "metadata": {},
     "output_type": "execute_result"
    }
   ],
   "source": [
    "F1 = QuantumCircuit(1, name='F0')\n",
    "F1.ry(-vector_theta3[0], 0)\n",
    "\n",
    "\n",
    "F2 = QuantumCircuit(2, name='F1')\n",
    "F2.cx(0,1)\n",
    "F2.ry(-vector_theta_2[1], 1)\n",
    "F2.cx(0,1)\n",
    "F2.ry(-vector_theta_2[0], 1)\n",
    "\n",
    "\n",
    "F3 = QuantumCircuit(3, name='F2')\n",
    "F3.cx(0,2)\n",
    "F3.ry(-vector_theta_1[3], 2)\n",
    "F3.cx(1,2)\n",
    "F3.ry(-vector_theta_1[2], 2)\n",
    "F3.cx(0,2)\n",
    "F3.ry(-vector_theta_1[1], 2)\n",
    "F3.cx(1,2)\n",
    "F3.ry(-vector_theta_1[0], 2)\n",
    "\n"
   ]
  },
  {
   "cell_type": "code",
   "execution_count": 15,
   "metadata": {},
   "outputs": [
    {
     "data": {
      "image/png": "[encoded data removed]",
      "text/plain": [
       "<Figure size 185.453x117.056 with 1 Axes>"
      ]
     },
     "execution_count": 15,
     "metadata": {},
     "output_type": "execute_result"
    }
   ],
   "source": [
    "F1.draw(output='mpl', style='iqp')"
   ]
  },
  {
   "cell_type": "code",
   "execution_count": 16,
   "metadata": {},
   "outputs": [
    {
     "data": {
      "image/png": "[encoded data removed]",
      "text/plain": [
       "<Figure size 454.517x200.667 with 1 Axes>"
      ]
     },
     "execution_count": 16,
     "metadata": {},
     "output_type": "execute_result"
    }
   ],
   "source": [
    "F2.draw(output='mpl', style='iqp')"
   ]
  },
  {
   "cell_type": "code",
   "execution_count": 17,
   "metadata": {},
   "outputs": [
    {
     "data": {
      "image/png": "[encoded data removed]",
      "text/plain": [
       "<Figure size 789.163x284.278 with 1 Axes>"
      ]
     },
     "execution_count": 17,
     "metadata": {},
     "output_type": "execute_result"
    }
   ],
   "source": [
    "F3.draw(output='mpl', style='iqp')"
   ]
  },
  {
   "cell_type": "code",
   "execution_count": 18,
   "metadata": {},
   "outputs": [
    {
     "data": {
      "image/png": "[encoded data removed]",
      "text/plain": [
       "<Figure size 371.107x367.889 with 1 Axes>"
      ]
     },
     "execution_count": 18,
     "metadata": {},
     "output_type": "execute_result"
    }
   ],
   "source": [
    "T_CBD3 = QuantumCircuit(3,3)\n",
    "T_CBD3.append(F1, [2])\n",
    "T_CBD3.append(F2, [2,1])\n",
    "T_CBD3.append(F3, [1,2,0])\n",
    "\n",
    "T_CBD3.draw(output='mpl', style='iqp')"
   ]
  },
  {
   "cell_type": "code",
   "execution_count": 19,
   "metadata": {},
   "outputs": [
    {
     "data": {
      "image/png": "[encoded data removed]",
      "text/plain": [
       "<Figure size 700x500 with 1 Axes>"
      ]
     },
     "execution_count": 19,
     "metadata": {},
     "output_type": "execute_result"
    }
   ],
   "source": [
    "# When displaying or interpreting a list of bits (or qubits) as a string,\n",
    "# bit n is the leftmost bit, and bit 0 is the rightmost bit.\n",
    "\n",
    "zero = qi.Statevector.from_label('000')\n",
    "sv = zero.evolve(T_CBD3)\n",
    "probs = sv.probabilities_dict([0,1,2])\n",
    "plot_distribution(probs)"
   ]
  }
 ],
 "metadata": {
  "kernelspec": {
   "display_name": "qiskit12",
   "language": "python",
   "name": "python3"
  },
  "language_info": {
   "codemirror_mode": {
    "name": "ipython",
    "version": 3
   },
   "file_extension": ".py",
   "mimetype": "text/x-python",
   "name": "python",
   "nbconvert_exporter": "python",
   "pygments_lexer": "ipython3",
   "version": "3.11.9"
  }
 },
 "nbformat": 4,
 "nbformat_minor": 2
}
